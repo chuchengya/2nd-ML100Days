{
 "cells": [
  {
   "cell_type": "markdown",
   "metadata": {},
   "source": [
    "## 練習時間\n",
    "在小量的資料上，我們用眼睛就可以看得出來程式碼是否有跑出我們理想中的結果\n",
    "\n",
    "請嘗試想像一個你需要的資料結構 (裡面的值可以是隨機的)，然後用上述的方法把它變成 pandas DataFrame\n",
    "\n",
    "#### Ex: 想像一個 dataframe 有兩個欄位，一個是國家，一個是人口，求人口數最多的國家\n",
    "\n",
    "### Hints: [隨機產生數值](https://blog.csdn.net/christianashannon/article/details/78867204)"
   ]
  },
  {
   "cell_type": "code",
   "execution_count": 41,
   "metadata": {},
   "outputs": [],
   "source": [
    "import pandas as pd\n",
    "import numpy as np"
   ]
  },
  {
   "cell_type": "code",
   "execution_count": 65,
   "metadata": {
    "scrolled": true
   },
   "outputs": [
    {
     "name": "stdout",
     "output_type": "stream",
     "text": [
      "{'Country': ('America', 'Brazil', 'Canada', 'Dutch', 'England', 'French'), 'Population': array([651452, 348146, 497145, 387995, 413178, 283783])}\n",
      "   Country  Population\n",
      "0  America      651452\n",
      "1   Brazil      348146\n",
      "2   Canada      497145\n",
      "3    Dutch      387995\n",
      "4  England      413178\n",
      "5   French      283783\n"
     ]
    }
   ],
   "source": [
    "data = {}\n",
    "data ['Country'] = (\"America\", \"Brazil\", \"Canada\", \"Dutch\", \"England\", \"French\")\n",
    "data['Population'] = np.random.randint(1000000,size=6)\n",
    "print(data)\n",
    "\n",
    "country = pd.DataFrame(data)\n",
    "print(country)"
   ]
  },
  {
   "cell_type": "code",
   "execution_count": 70,
   "metadata": {},
   "outputs": [
    {
     "data": {
      "text/plain": [
       "Population\n",
       "283783     French\n",
       "348146     Brazil\n",
       "387995      Dutch\n",
       "413178    England\n",
       "497145     Canada\n",
       "651452    America\n",
       "Name: Country, dtype: object"
      ]
     },
     "execution_count": 70,
     "metadata": {},
     "output_type": "execute_result"
    }
   ],
   "source": [
    "country.groupby(by = 'Population')['Country'].max()"
   ]
  }
 ],
 "metadata": {
  "kernelspec": {
   "display_name": "Python 3",
   "language": "python",
   "name": "python3"
  },
  "language_info": {
   "codemirror_mode": {
    "name": "ipython",
    "version": 3
   },
   "file_extension": ".py",
   "mimetype": "text/x-python",
   "name": "python",
   "nbconvert_exporter": "python",
   "pygments_lexer": "ipython3",
   "version": "3.7.3"
  }
 },
 "nbformat": 4,
 "nbformat_minor": 2
}
